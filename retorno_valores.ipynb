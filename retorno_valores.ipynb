{
 "cells": [
  {
   "cell_type": "code",
   "execution_count": 1,
   "metadata": {},
   "outputs": [
    {
     "data": {
      "text/plain": [
       "'Esta retornando una cadena'"
      ]
     },
     "execution_count": 1,
     "metadata": {},
     "output_type": "execute_result"
    }
   ],
   "source": [
    "#Crear una funcion que retorne una cadena\n",
    "def test_cadena():\n",
    "    return(\"Esta retornando una cadena\")\n",
    "    print (\"Este es un segundo mensaje\")\n",
    "    print (\"Este es un tercer mensaje\")\n",
    "\n",
    "#Invocando la funcion\n",
    "test_cadena()"
   ]
  },
  {
   "cell_type": "code",
   "execution_count": 2,
   "metadata": {},
   "outputs": [
    {
     "data": {
      "text/plain": [
       "'Esta retornando una cadena'"
      ]
     },
     "execution_count": 2,
     "metadata": {},
     "output_type": "execute_result"
    }
   ],
   "source": [
    "#Podre asignar el resultado, a una variable?\n",
    "c=test_cadena()\n",
    "\n",
    "c"
   ]
  },
  {
   "cell_type": "code",
   "execution_count": 4,
   "metadata": {},
   "outputs": [
    {
     "data": {
      "text/plain": [
       "[4, 5, 6, 7, 8, 9]"
      ]
     },
     "execution_count": 4,
     "metadata": {},
     "output_type": "execute_result"
    }
   ],
   "source": [
    "#Utilizando el RETURN, podre imprimir un alista?\n",
    "def test_lista():\n",
    "    return[0,1,2,3,4,5,6,7,8,9]\n",
    "#Invocacion\n",
    "test_lista()[4:10]"
   ]
  },
  {
   "cell_type": "code",
   "execution_count": 6,
   "metadata": {},
   "outputs": [
    {
     "name": "stdout",
     "output_type": "stream",
     "text": [
      "Una cadena\n",
      "[0, 1, 2, 3, 4, 5, 6, 7, 8, 9, 10]\n",
      "65476\n"
     ]
    }
   ],
   "source": [
    "#Crear una funcion con multiples valores\n",
    "def test_mvalores():\n",
    "    return(\"Una cadena\", [0,1,2,3,4,5,6,7,8,9,10], 65476)\n",
    "\n",
    "#Se podra asignar multiples variables?\n",
    "c,l,n= test_mvalores()\n",
    "\n",
    "#Invocare la asignacion\n",
    "print(c)\n",
    "print(l)\n",
    "print(n)"
   ]
  },
  {
   "cell_type": "code",
   "execution_count": null,
   "metadata": {},
   "outputs": [],
   "source": []
  }
 ],
 "metadata": {
  "kernelspec": {
   "display_name": "Python 3",
   "language": "python",
   "name": "python3"
  },
  "language_info": {
   "codemirror_mode": {
    "name": "ipython",
    "version": 3
   },
   "file_extension": ".py",
   "mimetype": "text/x-python",
   "name": "python",
   "nbconvert_exporter": "python",
   "pygments_lexer": "ipython3",
   "version": "3.8.5"
  }
 },
 "nbformat": 4,
 "nbformat_minor": 4
}
