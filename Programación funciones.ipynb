{
 "cells": [
  {
   "cell_type": "code",
   "execution_count": 1,
   "metadata": {},
   "outputs": [
    {
     "name": "stdout",
     "output_type": "stream",
     "text": [
      "Bienvenidos alumnos de I.S.\n"
     ]
    }
   ],
   "source": [
    "#Sintaxis para la cracion de funciones\n",
    "def saludar():\n",
    "    print(\"Bienvenidos alumnos de I.S.\")\n",
    "    \n",
    "#Invocacion de la funcion\n",
    "saludar()"
   ]
  },
  {
   "cell_type": "code",
   "execution_count": 3,
   "metadata": {},
   "outputs": [
    {
     "name": "stdout",
     "output_type": "stream",
     "text": [
      "10* 0 = 0\n",
      "10* 1 = 10\n",
      "10* 2 = 20\n",
      "10* 3 = 30\n",
      "10* 4 = 40\n",
      "10* 5 = 50\n",
      "10* 6 = 60\n",
      "10* 7 = 70\n",
      "10* 8 = 80\n",
      "10* 9 = 90\n",
      "10* 10 = 100\n"
     ]
    }
   ],
   "source": [
    "#Utilizando una funcion, imprimir la tabla de multiplicar del 10\n",
    "def dibujar_tabla_diez():\n",
    "    for i in range(11):\n",
    "        print(\"10*\",i,\"=\",i*10)\n",
    "    \n",
    "#Invocacion de la funcion\n",
    "dibujar_tabla_diez()"
   ]
  },
  {
   "cell_type": "code",
   "execution_count": null,
   "metadata": {},
   "outputs": [],
   "source": []
  }
 ],
 "metadata": {
  "kernelspec": {
   "display_name": "Python 3",
   "language": "python",
   "name": "python3"
  },
  "language_info": {
   "codemirror_mode": {
    "name": "ipython",
    "version": 3
   },
   "file_extension": ".py",
   "mimetype": "text/x-python",
   "name": "python",
   "nbconvert_exporter": "python",
   "pygments_lexer": "ipython3",
   "version": "3.8.5"
  }
 },
 "nbformat": 4,
 "nbformat_minor": 4
}
